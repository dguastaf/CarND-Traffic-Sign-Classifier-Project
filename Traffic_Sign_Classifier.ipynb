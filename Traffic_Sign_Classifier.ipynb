{
 "cells": [
  {
   "cell_type": "markdown",
   "metadata": {},
   "source": [
    "# Self-Driving Car Engineer Nanodegree\n",
    "\n",
    "## Deep Learning\n",
    "\n",
    "## Project: Build a Traffic Sign Recognition Classifier\n",
    "\n",
    "In this notebook, a template is provided for you to implement your functionality in stages which is required to successfully complete this project. If additional code is required that cannot be included in the notebook, be sure that the Python code is successfully imported and included in your submission, if necessary. Sections that begin with **'Implementation'** in the header indicate where you should begin your implementation for your project. Note that some sections of implementation are optional, and will be marked with **'Optional'** in the header.\n",
    "\n",
    "In addition to implementing code, there will be questions that you must answer which relate to the project and your implementation. Each section where you will answer a question is preceded by a **'Question'** header. Carefully read each question and provide thorough answers in the following text boxes that begin with **'Answer:'**. Your project submission will be evaluated based on your answers to each of the questions and the implementation you provide.\n",
    "\n",
    ">**Note:** Code and Markdown cells can be executed using the **Shift + Enter** keyboard shortcut. In addition, Markdown cells can be edited by typically double-clicking the cell to enter edit mode."
   ]
  },
  {
   "cell_type": "markdown",
   "metadata": {},
   "source": [
    "---\n",
    "## Step 0: Load The Data"
   ]
  },
  {
   "cell_type": "code",
   "execution_count": 14,
   "metadata": {
    "collapsed": false
   },
   "outputs": [],
   "source": [
    "# Load pickled data\n",
    "import pickle\n",
    "\n",
    "# The training/testing files are too large to include in source control. \n",
    "# Download them from https://d17h27t6h515a5.cloudfront.net/topher/2016/November/581faac4_traffic-signs-data/traffic-signs-data.zip\n",
    "\n",
    "training_file = \"traffic-signs-data/train.p\"\n",
    "testing_file = \"traffic-signs-data/test.p\"\n",
    "\n",
    "with open(training_file, mode='rb') as f:\n",
    "    train = pickle.load(f)\n",
    "with open(testing_file, mode='rb') as f:\n",
    "    test = pickle.load(f)\n",
    "    \n",
    "X_train, y_train = train['features'], train['labels']\n",
    "X_test, y_test = test['features'], test['labels']"
   ]
  },
  {
   "cell_type": "markdown",
   "metadata": {},
   "source": [
    "---\n",
    "\n",
    "## Step 1: Dataset Summary & Exploration\n",
    "\n",
    "The pickled data is a dictionary with 4 key/value pairs:\n",
    "\n",
    "- `'features'` is a 4D array containing raw pixel data of the traffic sign images, (num examples, width, height, channels).\n",
    "- `'labels'` is a 2D array containing the label/class id of the traffic sign. The file `signnames.csv` contains id -> name mappings for each id.\n",
    "- `'sizes'` is a list containing tuples, (width, height) representing the the original width and height the image.\n",
    "- `'coords'` is a list containing tuples, (x1, y1, x2, y2) representing coordinates of a bounding box around the sign in the image. **THESE COORDINATES ASSUME THE ORIGINAL IMAGE. THE PICKLED DATA CONTAINS RESIZED VERSIONS (32 by 32) OF THESE IMAGES**\n",
    "\n",
    "Complete the basic data summary below."
   ]
  },
  {
   "cell_type": "code",
   "execution_count": 15,
   "metadata": {
    "collapsed": false
   },
   "outputs": [
    {
     "name": "stdout",
     "output_type": "stream",
     "text": [
      "Number of training examples = 39209\n",
      "Number of testing examples = 12630\n",
      "Image data shape = (32, 32, 3)\n",
      "Number of classes = 43\n"
     ]
    }
   ],
   "source": [
    "n_train = len(X_train)\n",
    "n_test = len(X_test)\n",
    "image_shape = X_train[0].shape\n",
    "n_classes = len(set(y_train))\n",
    "\n",
    "print(\"Number of training examples =\", n_train)\n",
    "print(\"Number of testing examples =\", n_test)\n",
    "print(\"Image data shape =\", image_shape)\n",
    "print(\"Number of classes =\", n_classes)"
   ]
  },
  {
   "cell_type": "markdown",
   "metadata": {},
   "source": [
    "Visualize the German Traffic Signs Dataset using the pickled file(s). This is open ended, suggestions include: plotting traffic sign images, plotting the count of each sign, etc.\n",
    "\n",
    "The [Matplotlib](http://matplotlib.org/) [examples](http://matplotlib.org/examples/index.html) and [gallery](http://matplotlib.org/gallery.html) pages are a great resource for doing visualizations in Python.\n",
    "\n",
    "**NOTE:** It's recommended you start with something simple first. If you wish to do more, come back to it after you've completed the rest of the sections."
   ]
  },
  {
   "cell_type": "code",
   "execution_count": 16,
   "metadata": {
    "collapsed": false
   },
   "outputs": [
    {
     "data": {
      "text/plain": [
       "<matplotlib.image.AxesImage at 0x7f1d16b270b8>"
      ]
     },
     "execution_count": 16,
     "metadata": {},
     "output_type": "execute_result"
    },
    {
     "data": {
      "image/png": "[encoded data removed]",
      "text/plain": [
       "<matplotlib.figure.Figure at 0x7f1d43a2ef98>"
      ]
     },
     "metadata": {},
     "output_type": "display_data"
    }
   ],
   "source": [
    "# Picks a random training set image and shows it on a coordinate plot\n",
    "\n",
    "import matplotlib.pyplot as plt\n",
    "import random\n",
    "# Visualizations will be shown in the notebook.\n",
    "%matplotlib inline\n",
    "\n",
    "plt.figure(figsize=(1.5,1.5))\n",
    "\n",
    "index = random.randint(0, len(X_train))\n",
    "plt.imshow(X_train[index])"
   ]
  },
  {
   "cell_type": "markdown",
   "metadata": {},
   "source": [
    "----\n",
    "\n",
    "## Step 2: Design and Test a Model Architecture\n",
    "\n",
    "Design and implement a deep learning model that learns to recognize traffic signs. Train and test your model on the [German Traffic Sign Dataset](http://benchmark.ini.rub.de/?section=gtsrb&subsection=dataset).\n",
    "\n",
    "There are various aspects to consider when thinking about this problem:\n",
    "\n",
    "- Neural network architecture\n",
    "- Play around preprocessing techniques (normalization, rgb to grayscale, etc)\n",
    "- Number of examples per label (some have more than others).\n",
    "- Generate fake data.\n",
    "\n",
    "Here is an example of a [published baseline model on this problem](http://yann.lecun.com/exdb/publis/pdf/sermanet-ijcnn-11.pdf). It's not required to be familiar with the approach used in the paper but, it's good practice to try to read papers like these.\n",
    "\n",
    "**NOTE:** The LeNet-5 implementation shown in the [classroom](https://classroom.udacity.com/nanodegrees/nd013/parts/fbf77062-5703-404e-b60c-95b78b2f3f9e/modules/6df7ae49-c61c-4bb2-a23e-6527e69209ec/lessons/601ae704-1035-4287-8b11-e2c2716217ad/concepts/d4aca031-508f-4e0b-b493-e7b706120f81) at the end of the CNN lesson is a solid starting point. You'll have to change the number of classes and possibly the preprocessing, but aside from that it's plug and play!"
   ]
  },
  {
   "cell_type": "markdown",
   "metadata": {},
   "source": [
    "### Implementation\n",
    "\n",
    "Use the code cell (or multiple code cells, if necessary) to implement the first step of your project. Once you have completed your implementation and are satisfied with the results, be sure to thoroughly answer the questions that follow."
   ]
  },
  {
   "cell_type": "code",
   "execution_count": 17,
   "metadata": {
    "collapsed": false
   },
   "outputs": [
    {
     "name": "stdout",
     "output_type": "stream",
     "text": [
      "\n",
      "Image Shape: (32, 32, 3)\n",
      "\n",
      "Training Set:   31367 samples\n",
      "Validation Set: 7842 samples\n",
      "Test Set:       12630 samples\n"
     ]
    }
   ],
   "source": [
    "# Preprocessing\n",
    "# Shuffles the training data and segments off a validation set\n",
    "\n",
    "from sklearn.utils import shuffle\n",
    "from sklearn.model_selection import train_test_split\n",
    "import cv2\n",
    "\n",
    "# Shuffle the training samples & labels\n",
    "X_train, y_train = shuffle(X_train, y_train)\n",
    "\n",
    "# Carve out 20% of the training set to use as a validtion set\n",
    "X_train, X_validation, y_train, y_validation = train_test_split(X_train, y_train, test_size=0.2, random_state=0)\n",
    "\n",
    "assert(len(X_train) == len(y_train))\n",
    "assert(len(X_validation) == len(y_validation))\n",
    "assert(len(X_test) == len(y_test))\n",
    "\n",
    "print()\n",
    "print(\"Image Shape: {}\".format(X_train[0].shape))\n",
    "print()\n",
    "print(\"Training Set:   {} samples\".format(len(X_train)))\n",
    "print(\"Validation Set: {} samples\".format(len(X_validation)))\n",
    "print(\"Test Set:       {} samples\".format(len(X_test)))\n"
   ]
  },
  {
   "cell_type": "code",
   "execution_count": 18,
   "metadata": {
    "collapsed": true
   },
   "outputs": [],
   "source": [
    "# Network architecture - a modification of the LeNet architecture. \n",
    "# My modifications:\n",
    "#   - Add additional convolutional layer (3 convolutional layers total) \n",
    "#   - Deeper convolutional layers. (output depths: 32, 64, 128)\n",
    "#   - Add additional fully connected layer (3 fully connected layers total)\n",
    "#   - Dropout between convolutional and fully connected layers to mitigate overfitting\n",
    "\n",
    "from tensorflow.contrib.layers import flatten\n",
    "import tensorflow as tf\n",
    "\n",
    "# Hyperparameters\n",
    "EPOCHS = 35\n",
    "BATCH_SIZE = 500\n",
    "MU = 0\n",
    "SIGMA = 0.1\n",
    "RATE = 0.001\n",
    "\n",
    "# Convolutional layer\n",
    "def conv(x, width, height, in_depth, out_depth):    \n",
    "    shape = (width, height, in_depth, out_depth)\n",
    "    conv_W = tf.Variable(tf.truncated_normal(shape=shape, mean = MU, stddev = SIGMA))\n",
    "    conv_b = tf.Variable(tf.zeros(out_depth))\n",
    "    conv_out = tf.nn.conv2d(x, conv_W, strides=[1, 1, 1, 1], padding='VALID') + conv_b\n",
    "\n",
    "    # Activation.\n",
    "    conv_out = tf.nn.relu(conv_out)\n",
    "\n",
    "    # Pooling\n",
    "    return tf.nn.max_pool(conv_out, ksize=[1, 2, 2, 1], strides=[1, 2, 2, 1], padding='VALID')\n",
    "\n",
    "# Fully connected layer\n",
    "def fully_connected(x, input_shape, output_shape):\n",
    "    fc_W = tf.Variable(tf.truncated_normal(shape=(input_shape, output_shape), mean = MU, stddev = SIGMA))\n",
    "    fc_b = tf.Variable(tf.zeros(output_shape))\n",
    "    fc = tf.matmul(x, fc_W) + fc_b\n",
    "    \n",
    "    return tf.nn.relu(fc)\n",
    "\n",
    "# Modified LeNet architecture\n",
    "def LeNet(x):    \n",
    "\n",
    "    # Layer 1: Convolutional. Input = 32x32x3. Output = 29x29x32. Pooling = 14x14x32\n",
    "    conv1 = conv(x, 4, 4, 3, 32)\n",
    "    \n",
    "    # Layer 2: Convolutional. Input = 14x14x32. Output = 11x11x64. Pooling = 5x5x64\n",
    "    conv2 = conv(conv1, 4, 4, 32, 64)\n",
    "    \n",
    "    # Layer 3: Convolutional. Input = 5x5x64. Output = 4x4x128. Pooling = 2x2x128\n",
    "    conv3 = conv(conv2, 2, 2, 64, 128)\n",
    "    \n",
    "    # Flatten. Input = 2x2x128. Output = 512.\n",
    "    flat = flatten(conv3)\n",
    "    \n",
    "    # Dropout\n",
    "    dropout = tf.nn.dropout(flat, keep_prob)\n",
    "    \n",
    "    # Layer 4: Fully Connected. Input = 512. Output = 200.\n",
    "    fc1 = fully_connected(dropout, 512, 200)\n",
    "    \n",
    "    # Layer 5: Fully Connected. Input = 200. Output = 75.\n",
    "    fc1 = fully_connected(fc1, 200, 75)\n",
    "\n",
    "    # Layer 6: Fully Connected. Input = 75. Output = 43.\n",
    "    logits = fully_connected(fc1, 75, 43)\n",
    "    \n",
    "    return logits"
   ]
  },
  {
   "cell_type": "code",
   "execution_count": 19,
   "metadata": {
    "collapsed": true
   },
   "outputs": [],
   "source": [
    "# Evaluate accuracy of model. Used for both validation and test sets\n",
    "def evaluate(X_data, y_data):\n",
    "    num_examples = len(X_data)\n",
    "    total_accuracy = 0\n",
    "    sess = tf.get_default_session()\n",
    "    for offset in range(0, num_examples, BATCH_SIZE):\n",
    "        batch_x, batch_y = X_data[offset:offset+BATCH_SIZE], y_data[offset:offset+BATCH_SIZE]\n",
    "        accuracy = sess.run(accuracy_operation, feed_dict={x: batch_x, y: batch_y, keep_prob: 1.0})\n",
    "        total_accuracy += (accuracy * len(batch_x))\n",
    "    return total_accuracy / num_examples"
   ]
  },
  {
   "cell_type": "code",
   "execution_count": 24,
   "metadata": {
    "collapsed": false
   },
   "outputs": [
    {
     "name": "stdout",
     "output_type": "stream",
     "text": [
      "Training...\n",
      "\n",
      "EPOCH 1 - Validation Accuracy = 0.085\n",
      "EPOCH 2 - Validation Accuracy = 0.188\n",
      "EPOCH 3 - Validation Accuracy = 0.311\n",
      "EPOCH 4 - Validation Accuracy = 0.398\n",
      "EPOCH 5 - Validation Accuracy = 0.508\n",
      "EPOCH 6 - Validation Accuracy = 0.590\n",
      "EPOCH 7 - Validation Accuracy = 0.676\n",
      "EPOCH 8 - Validation Accuracy = 0.740\n",
      "EPOCH 9 - Validation Accuracy = 0.800\n",
      "EPOCH 10 - Validation Accuracy = 0.845\n",
      "EPOCH 11 - Validation Accuracy = 0.864\n",
      "EPOCH 12 - Validation Accuracy = 0.893\n",
      "EPOCH 13 - Validation Accuracy = 0.908\n",
      "EPOCH 14 - Validation Accuracy = 0.923\n",
      "EPOCH 15 - Validation Accuracy = 0.922\n",
      "EPOCH 16 - Validation Accuracy = 0.935\n",
      "EPOCH 17 - Validation Accuracy = 0.941\n",
      "EPOCH 18 - Validation Accuracy = 0.951\n",
      "EPOCH 19 - Validation Accuracy = 0.958\n",
      "EPOCH 20 - Validation Accuracy = 0.964\n",
      "EPOCH 21 - Validation Accuracy = 0.966\n",
      "EPOCH 22 - Validation Accuracy = 0.964\n",
      "EPOCH 23 - Validation Accuracy = 0.969\n",
      "EPOCH 24 - Validation Accuracy = 0.970\n",
      "EPOCH 25 - Validation Accuracy = 0.967\n",
      "EPOCH 26 - Validation Accuracy = 0.972\n",
      "EPOCH 27 - Validation Accuracy = 0.973\n",
      "EPOCH 28 - Validation Accuracy = 0.973\n",
      "EPOCH 29 - Validation Accuracy = 0.972\n",
      "EPOCH 30 - Validation Accuracy = 0.975\n",
      "EPOCH 31 - Validation Accuracy = 0.977\n",
      "EPOCH 32 - Validation Accuracy = 0.978\n",
      "EPOCH 33 - Validation Accuracy = 0.976\n",
      "EPOCH 34 - Validation Accuracy = 0.978\n",
      "EPOCH 35 - Validation Accuracy = 0.977\n",
      "\n",
      "Model saved\n"
     ]
    }
   ],
   "source": [
    "# Placeholder Tensors\n",
    "keep_prob = tf.placeholder(tf.float32)\n",
    "x = tf.placeholder(tf.float32, (None, 32, 32, 3))\n",
    "y = tf.placeholder(tf.int32, (None))\n",
    "\n",
    "# One hot encode labels\n",
    "one_hot_y = tf.one_hot(y, 43)\n",
    "\n",
    "# Get logits and minimize error\n",
    "logits = LeNet(x)\n",
    "cross_entropy = tf.nn.softmax_cross_entropy_with_logits(logits, one_hot_y)\n",
    "loss_operation = tf.reduce_mean(cross_entropy)\n",
    "optimizer = tf.train.AdamOptimizer(learning_rate = RATE)\n",
    "training_operation = optimizer.minimize(loss_operation)\n",
    "\n",
    "correct_prediction = tf.equal(tf.argmax(logits, 1), tf.argmax(one_hot_y, 1))\n",
    "accuracy_operation = tf.reduce_mean(tf.cast(correct_prediction, tf.float32))\n",
    "saver = tf.train.Saver()\n",
    "\n",
    "with tf.Session() as sess:\n",
    "    sess.run(tf.global_variables_initializer())\n",
    "    num_examples = len(X_train)\n",
    "    \n",
    "    print(\"Training...\")\n",
    "    print()\n",
    "    for i in range(EPOCHS):\n",
    "        #Shuffle data with for each epoch\n",
    "        X_train, y_train = shuffle(X_train, y_train)\n",
    "        \n",
    "        #Divide samples into batches, run each through neural net\n",
    "        for offset in range(0, num_examples, BATCH_SIZE):\n",
    "            end = offset + BATCH_SIZE\n",
    "            batch_x, batch_y = X_train[offset:end], y_train[offset:end]\n",
    "            sess.run(training_operation, feed_dict={x: batch_x, y: batch_y, keep_prob:0.5})\n",
    "        \n",
    "        #Calculate accuracy based on validation set\n",
    "        validation_accuracy = evaluate(X_validation, y_validation)\n",
    "        print(\"EPOCH {} - Validation Accuracy = {:.3f}\".format(i+1, validation_accuracy))\n",
    "       \n",
    "    #Save model\n",
    "    saver.save(sess, 'lenet')\n",
    "    print()\n",
    "    print(\"Model saved\")"
   ]
  },
  {
   "cell_type": "markdown",
   "metadata": {},
   "source": [
    "### Question 1 \n",
    "\n",
    "_Describe how you preprocessed the data. Why did you choose that technique?_"
   ]
  },
  {
   "cell_type": "markdown",
   "metadata": {},
   "source": [
    "**Answer:**\n",
    "\n",
    "My preprocessing step is pretty simple. It just shuffles the training set.\n",
    "For further experimentation I can try grayscaling or augumenting the images."
   ]
  },
  {
   "cell_type": "markdown",
   "metadata": {},
   "source": [
    "### Question 2\n",
    "\n",
    "_Describe how you set up the training, validation and testing data for your model. **Optional**: If you generated additional data, how did you generate the data? Why did you generate the data? What are the differences in the new dataset (with generated data) from the original dataset?_"
   ]
  },
  {
   "cell_type": "markdown",
   "metadata": {},
   "source": [
    "**Answer:**\n",
    "The training set is provided and I did not modify it.\n",
    "My validation consists of 20% of the training set . We need to use a validation set while tuning our model to ensure that we're not overfitting"
   ]
  },
  {
   "cell_type": "markdown",
   "metadata": {},
   "source": [
    "### Question 3\n",
    "\n",
    "_What does your final architecture look like? (Type of model, layers, sizes, connectivity, etc.)  For reference on how to build a deep neural network using TensorFlow, see [Deep Neural Network in TensorFlow\n",
    "](https://classroom.udacity.com/nanodegrees/nd013/parts/fbf77062-5703-404e-b60c-95b78b2f3f9e/modules/6df7ae49-c61c-4bb2-a23e-6527e69209ec/lessons/b516a270-8600-4f93-a0a3-20dfeabe5da6/concepts/83a3a2a2-a9bd-4b7b-95b0-eb924ab14432) from the classroom._\n"
   ]
  },
  {
   "cell_type": "markdown",
   "metadata": {},
   "source": [
    "**Answer:**\n",
    " My network architecture is a modification of the LeNet architecture. \n",
    " My modifications:\n",
    "   - Add additional convolutional layer (3 convolutional layers total) \n",
    "   - Deeper convolutional layers\n",
    "   - Add additional fully connected layer (3 fully connected layers total)\n",
    "   - Dropout between convolutional and fully connected layers to mitigate overfitting\n",
    "   \n",
    "Layer 1: Convolutional. Input = 32x32x3. Output = 29x29x32. Pooling = 14x14x32  \n",
    "Layer 2: Convolutional. Input = 14x14x32. Output = 11x11x64. Pooling = 5x5x64  \n",
    "Layer 3: Convolutional. Input = 5x5x64. Output = 4x4x128. Pooling = 2x2x128  \n",
    "Data is then flattened into 1D array of 512 elements  \n",
    "50% dropout applied  \n",
    "Layer 4: Fully Connected. Input = 512. Output = 200.  \n",
    "Layer 5: Fully Connected. Input = 200. Output = 75.  \n",
    "Layer 6: Fully Connected. Input = 75. Output = 43."
   ]
  },
  {
   "cell_type": "markdown",
   "metadata": {},
   "source": [
    "### Question 4\n",
    "\n",
    "_How did you train your model? (Type of optimizer, batch size, epochs, hyperparameters, etc.)_\n"
   ]
  },
  {
   "cell_type": "markdown",
   "metadata": {},
   "source": [
    "**Answer:**  \n",
    "Hyperparameters: \n",
    "epochs = 35  \n",
    "batch size = 500  \n",
    "initial weight mean = 0  \n",
    "initial weight std dev = 0.1  \n",
    "learning rate = 0.001  \n",
    "  \n",
    "I used the Adam Optimizer instead of Gradient Descent as the optimizer\n"
   ]
  },
  {
   "cell_type": "markdown",
   "metadata": {},
   "source": [
    "### Question 5\n",
    "\n",
    "\n",
    "_What approach did you take in coming up with a solution to this problem? It may have been a process of trial and error, in which case, outline the steps you took to get to the final solution and why you chose those steps. Perhaps your solution involved an already well known implementation or architecture. In this case, discuss why you think this is suitable for the current problem._"
   ]
  },
  {
   "cell_type": "markdown",
   "metadata": {},
   "source": [
    "**Answer:**\n",
    "\n",
    "I started by plugging in the LeNet architecture used in the LeNet lab earlier in the course. From there it was a combination of trial and error and some critical thinking. \n",
    "\n",
    "At the beginning, I just started to play around with the hyperparameters to see how that would affect the network. Here I observed that increasing the learning rate produced a jittery network where the accuracy would fluctuate wildly. Also increasing the standard deviation lowered the accuracy significantly. \n",
    "\n",
    "Next I recalled that each layer of a convolutional network is used to identify groupings of attributes about an image. Adding more layers allows us to identify more groupings. In addition, increasing the depth of each layer increases the number of unique attributes that can be identified.\n",
    "\n",
    "I added a dropout operation to prevent overfitting. This really helped the accuracy go up.\n",
    "\n",
    "I also added another connected layer to see if this would function similar to adding more convolutional layers. Mainly this just decreased the learning speed. However, increasing the number of epochs really helped here. \n",
    "\n",
    "In the end, I experimented with the sizes of each layer/filter to see how this would change the accuracy\n",
    "\n",
    "With the given model & architecutre, I was able to get ~98% accuracy for the validation set and ~94.5 for the test set"
   ]
  },
  {
   "cell_type": "markdown",
   "metadata": {},
   "source": [
    "---\n",
    "\n",
    "## Step 3: Test a Model on New Images\n",
    "\n",
    "Take several pictures of traffic signs that you find on the web or around you (at least five), and run them through your classifier on your computer to produce example results. The classifier might not recognize some local signs but it could prove interesting nonetheless.\n",
    "\n",
    "You may find `signnames.csv` useful as it contains mappings from the class id (integer) to the actual sign name."
   ]
  },
  {
   "cell_type": "markdown",
   "metadata": {},
   "source": [
    "### Implementation\n",
    "\n",
    "Use the code cell (or multiple code cells, if necessary) to implement the first step of your project. Once you have completed your implementation and are satisfied with the results, be sure to thoroughly answer the questions that follow."
   ]
  },
  {
   "cell_type": "code",
   "execution_count": 25,
   "metadata": {
    "collapsed": false
   },
   "outputs": [
    {
     "name": "stdout",
     "output_type": "stream",
     "text": [
      "Test Accuracy = 0.938\n"
     ]
    }
   ],
   "source": [
    "with tf.Session() as sess:\n",
    "    saver.restore(sess, tf.train.latest_checkpoint('.'))\n",
    "\n",
    "    test_accuracy = evaluate(X_test, y_test)\n",
    "    print(\"Test Accuracy = {:.3f}\".format(test_accuracy))"
   ]
  },
  {
   "cell_type": "markdown",
   "metadata": {},
   "source": [
    "### Question 6\n",
    "\n",
    "_Choose five candidate images of traffic signs and provide them in the report. Are there any particular qualities of the image(s) that might make classification difficult? It could be helpful to plot the images in the notebook._\n",
    "\n"
   ]
  },
  {
   "cell_type": "markdown",
   "metadata": {},
   "source": [
    "**Answer:**"
   ]
  },
  {
   "cell_type": "code",
   "execution_count": 26,
   "metadata": {
    "collapsed": false
   },
   "outputs": [
    {
     "name": "stdout",
     "output_type": "stream",
     "text": [
      "Test Accuracy = 0.800\n"
     ]
    }
   ],
   "source": [
    "### Run the predictions here.\n",
    "### Feel free to use as many code cells as needed.\n",
    "import matplotlib.image as mpimg\n",
    "%matplotlib inline\n",
    "\n",
    "candidate_images = []\n",
    "candidate_labels = [40, 2, 22, 17, 28]\n",
    "candidate_names = [\"Roundabout mandatory\", \"Speed limit 50km/h\", \"Bumpy road\", \"No entry\", \"Children crossing\"]\n",
    "\n",
    "def loadImage(filename):\n",
    "    img = cv2.imread(\"candidateImages/\"+filename, cv2.IMREAD_COLOR)\n",
    "    b,g,r = cv2.split(img)       # get b,g,r\n",
    "    rgb_img = cv2.merge([r,g,b])  # switch to rgb\n",
    "    candidate_images.append(rgb_img)\n",
    "\n",
    "loadImage(\"roundabout.png\") #40\n",
    "loadImage(\"50_speed.png\") #2\n",
    "loadImage(\"bumps.png\") #22\n",
    "loadImage(\"noentry.png\") #17\n",
    "loadImage(\"childrencrossing.png\") #28\n",
    "\n",
    "with tf.Session() as sess:\n",
    "    saver.restore(sess, tf.train.latest_checkpoint('.'))\n",
    "\n",
    "    test_accuracy = evaluate(candidate_images, candidate_labels)\n",
    "    print(\"Test Accuracy = {:.3f}\".format(test_accuracy))"
   ]
  },
  {
   "cell_type": "markdown",
   "metadata": {},
   "source": [
    "### Question 7\n",
    "\n",
    "_Is your model able to perform equally well on captured pictures when compared to testing on the dataset? The simplest way to do this check the accuracy of the predictions. For example, if the model predicted 1 out of 5 signs correctly, it's 20% accurate._\n",
    "\n",
    "_**NOTE:** You could check the accuracy manually by using `signnames.csv` (same directory). This file has a mapping from the class id (0-42) to the corresponding sign name. So, you could take the class id the model outputs, lookup the name in `signnames.csv` and see if it matches the sign from the image._\n"
   ]
  },
  {
   "cell_type": "markdown",
   "metadata": {},
   "source": [
    "**Answer:**\n",
    "With the couple runs I've done, I get between 60% - 80% accuracy. A couple things could be affecting these results. First, many of these images are stock photos and have watermarks over parts of the images, which is distoring the sign. Also, the images aren't cut with the same specifications of the training data. The training images have consistent padding around all 4 sides of the image. Some of my images don't have the same padding. "
   ]
  },
  {
   "cell_type": "markdown",
   "metadata": {},
   "source": [
    "### Question 8\n",
    "\n",
    "*Use the model's softmax probabilities to visualize the **certainty** of its predictions, [`tf.nn.top_k`](https://www.tensorflow.org/versions/r0.12/api_docs/python/nn.html#top_k) could prove helpful here. Which predictions is the model certain of? Uncertain? If the model was incorrect in its initial prediction, does the correct prediction appear in the top k? (k should be 5 at most)*\n",
    "\n",
    "`tf.nn.top_k` will return the values and indices (class ids) of the top k predictions. So if k=3, for each sign, it'll return the 3 largest probabilities (out of a possible 43) and the correspoding class ids.\n",
    "\n",
    "Take this numpy array as an example:\n",
    "\n",
    "```\n",
    "# (5, 6) array\n",
    "a = np.array([[ 0.24879643,  0.07032244,  0.12641572,  0.34763842,  0.07893497,\n",
    "         0.12789202],\n",
    "       [ 0.28086119,  0.27569815,  0.08594638,  0.0178669 ,  0.18063401,\n",
    "         0.15899337],\n",
    "       [ 0.26076848,  0.23664738,  0.08020603,  0.07001922,  0.1134371 ,\n",
    "         0.23892179],\n",
    "       [ 0.11943333,  0.29198961,  0.02605103,  0.26234032,  0.1351348 ,\n",
    "         0.16505091],\n",
    "       [ 0.09561176,  0.34396535,  0.0643941 ,  0.16240774,  0.24206137,\n",
    "         0.09155967]])\n",
    "```\n",
    "\n",
    "Running it through `sess.run(tf.nn.top_k(tf.constant(a), k=3))` produces:\n",
    "\n",
    "```\n",
    "TopKV2(values=array([[ 0.34763842,  0.24879643,  0.12789202],\n",
    "       [ 0.28086119,  0.27569815,  0.18063401],\n",
    "       [ 0.26076848,  0.23892179,  0.23664738],\n",
    "       [ 0.29198961,  0.26234032,  0.16505091],\n",
    "       [ 0.34396535,  0.24206137,  0.16240774]]), indices=array([[3, 0, 5],\n",
    "       [0, 1, 4],\n",
    "       [0, 5, 1],\n",
    "       [1, 3, 5],\n",
    "       [1, 4, 3]], dtype=int32))\n",
    "```\n",
    "\n",
    "Looking just at the first row we get `[ 0.34763842,  0.24879643,  0.12789202]`, you can confirm these are the 3 largest probabilities in `a`. You'll also notice `[3, 0, 5]` are the corresponding indices."
   ]
  },
  {
   "cell_type": "markdown",
   "metadata": {},
   "source": [
    "**Answer:**"
   ]
  },
  {
   "cell_type": "code",
   "execution_count": 27,
   "metadata": {
    "collapsed": false
   },
   "outputs": [
    {
     "name": "stdout",
     "output_type": "stream",
     "text": [
      "Roundabout mandatory:\n",
      "\t label 40 - probability 1.000\n",
      "\t label 34 - probability 0.000\n",
      "\t label 35 - probability 0.000\n",
      "\n",
      "\n",
      "Speed limit 50km/h:\n",
      "\t label 5 - probability 0.907\n",
      "\t label 2 - probability 0.089\n",
      "\t label 1 - probability 0.003\n",
      "\n",
      "\n",
      "Bumpy road:\n",
      "\t label 22 - probability 1.000\n",
      "\t label 29 - probability 0.000\n",
      "\t label 24 - probability 0.000\n",
      "\n",
      "\n",
      "No entry:\n",
      "\t label 17 - probability 1.000\n",
      "\t label 14 - probability 0.000\n",
      "\t label 9 - probability 0.000\n",
      "\n",
      "\n",
      "Children crossing:\n",
      "\t label 28 - probability 0.991\n",
      "\t label 30 - probability 0.004\n",
      "\t label 23 - probability 0.000\n",
      "\n",
      "\n"
     ]
    }
   ],
   "source": [
    "softmax = tf.nn.softmax(logits)\n",
    "top3 = tf.nn.top_k(softmax, k = 3)\n",
    "with tf.Session() as sess:\n",
    "    saver.restore(sess, tf.train.latest_checkpoint('.'))\n",
    "    output = sess.run(top3, feed_dict={x: candidate_images, y: candidate_labels, keep_prob:1.0})\n",
    "    \n",
    "    i = 0\n",
    "    for probabilities, labels, candidate_name in zip(output[0], output[1], candidate_names):\n",
    "        print(\"{}:\".format(candidate_names[i]))\n",
    "        for probability, label in zip(probabilities, labels):\n",
    "            print(\"\\t label {} - probability {:.3f}\".format(label, probability))\n",
    "        print(\"\\n\")\n",
    "        i += 1\n",
    "\n"
   ]
  },
  {
   "cell_type": "markdown",
   "metadata": {},
   "source": [
    "**Analysis**\n",
    "\n",
    "Here's a sample output that my model generated:\n",
    "```\n",
    "Roundabout mandatory:\n",
    "\t label 40 - probability 1.000\n",
    "\t label 34 - probability 0.000\n",
    "\t label 35 - probability 0.000\n",
    "\n",
    "Speed limit 50km/h:\n",
    "\t label 5 - probability 0.907\n",
    "\t label 2 - probability 0.089\n",
    "\t label 1 - probability 0.003\n",
    "\n",
    "Bumpy road:\n",
    "\t label 22 - probability 1.000\n",
    "\t label 29 - probability 0.000\n",
    "\t label 24 - probability 0.000\n",
    "\n",
    "No entry:\n",
    "\t label 17 - probability 1.000\n",
    "\t label 14 - probability 0.000\n",
    "\t label 9 - probability 0.000\n",
    "\n",
    "Children crossing:\n",
    "\t label 28 - probability 0.991\n",
    "\t label 30 - probability 0.004\n",
    "\t label 23 - probability 0.000\n",
    "\n",
    "```\n",
    "\n",
    "Looks my model was able to correctly classify the roundabout, bumpy road, no entry, and children crossing candidate images with high confidence.\n",
    "\n",
    "What's interesting is that the 50km/h sign was actually predicted to be a 80km/h with fairly high certainty (~91%). My thinking is that the model is mixing up 5 and 8 because they look similar. I re-computed the weights several times without changing any of the code and found that my model frequently fails to classify the speed limit sign correctly. The neural net usually identifies that it's a speed limit sign, but struggles to detect the exact speed limit amount. "
   ]
  },
  {
   "cell_type": "markdown",
   "metadata": {},
   "source": [
    "> **Note**: Once you have completed all of the code implementations and successfully answered each question above, you may finalize your work by exporting the iPython Notebook as an HTML document. You can do this by using the menu above and navigating to  \\n\",\n",
    "    \"**File -> Download as -> HTML (.html)**. Include the finished document along with this notebook as your submission."
   ]
  }
 ],
 "metadata": {
  "anaconda-cloud": {},
  "kernelspec": {
   "display_name": "Python 3",
   "language": "python",
   "name": "python3"
  },
  "language_info": {
   "codemirror_mode": {
    "name": "ipython",
    "version": 3
   },
   "file_extension": ".py",
   "mimetype": "text/x-python",
   "name": "python",
   "nbconvert_exporter": "python",
   "pygments_lexer": "ipython3",
   "version": "3.5.2"
  },
  "widgets": {
   "state": {},
   "version": "1.1.2"
  }
 },
 "nbformat": 4,
 "nbformat_minor": 1
}
